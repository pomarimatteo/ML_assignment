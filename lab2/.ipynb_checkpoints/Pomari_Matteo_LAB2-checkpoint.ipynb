{
 "cells": [
  {
   "cell_type": "markdown",
   "metadata": {},
   "source": [
    "# Kuzushiji Classification with Support Vector Machines\n",
    "\n",
    "In this notebook we are going to explore the use of Support Vector Machines (SVM) for image classification. We will use a variant of the famous MNIST dataset (the original is a dataset of handwritten digits). The version we are going to use is called Kuzushiji-MNIST or K-MNIST for short (https://github.com/rois-codh/kmnist) and is a dataset of traditional japanese handwritten kana.\n",
    "\n",
    "\n",
    "\n",
    "The dataset labels are the following:\n",
    "\n",
    "| Label | Hiragana Character | Romanji (Pronunciation) |\n",
    "| :-: | :-: | :-: |\n",
    "|   0   | お | o |\n",
    "| 1 | き | ki |\n",
    "| 2 | す | su |\n",
    "| 3 | つ | tsu |\n",
    "| 4 | な | na |\n",
    "| 5 | は | ha |\n",
    "| 6 | ま | ma |\n",
    "| 7 | や | ya |\n",
    "| 8 | れ | re |\n",
    "| 9 | を | wo |"
   ]
  },
  {
   "cell_type": "markdown",
   "metadata": {},
   "source": [
    "## TODO: Insert your surname, name and ID number\n",
    "\n",
    "Student surname: Pomari\n",
    "\n",
    "Student name: Matteo\n",
    "    \n",
    "ID:2056097"
   ]
  },
  {
   "cell_type": "code",
   "execution_count": 1,
   "metadata": {},
   "outputs": [],
   "source": [
    "#load the required packages\n",
    "\n",
    "%matplotlib inline\n",
    "\n",
    "import numpy as np\n",
    "import scipy as sp\n",
    "import matplotlib.pyplot as plt\n",
    "\n",
    "import sklearn\n",
    "from sklearn.datasets import fetch_openml\n",
    "from sklearn.neural_network import MLPClassifier\n",
    "from sklearn.decomposition import PCA\n",
    "import sklearn.metrics as skm"
   ]
  },
  {
   "cell_type": "code",
   "execution_count": 2,
   "metadata": {},
   "outputs": [],
   "source": [
    "# helper function to load Kuzushiji-MNIST dataset\n",
    "def load_mnist(path, kind='train'):\n",
    "    import os\n",
    "    import gzip\n",
    "    import numpy as np\n",
    "    labels_path = os.path.join(path, 'K%s-labels-idx1-ubyte.gz' % kind)\n",
    "    images_path = os.path.join(path, 'K%s-images-idx3-ubyte.gz' % kind)\n",
    "    with gzip.open(labels_path, 'rb') as lbpath:\n",
    "        labels = np.frombuffer(lbpath.read(), dtype=np.uint8,offset=8)\n",
    "    with gzip.open(images_path, 'rb') as imgpath:\n",
    "        images = np.frombuffer(imgpath.read(), dtype=np.uint8,offset=16).reshape(len(labels), 784)\n",
    "    return images, labels"
   ]
  },
  {
   "cell_type": "code",
   "execution_count": 3,
   "metadata": {},
   "outputs": [],
   "source": [
    "#fix your ID (\"numero di matricola\") and the seed for random generator (as usual you can try different seeds)\n",
    "ID = 2056097\n",
    "np.random.seed(ID)"
   ]
  },
  {
   "cell_type": "code",
   "execution_count": 4,
   "metadata": {},
   "outputs": [
    {
     "name": "stdout",
     "output_type": "stream",
     "text": [
      "(60000, 784) (60000,)\n"
     ]
    }
   ],
   "source": [
    "#load the K-MNIST dataset from the 'data' folder and let's normalize the features so that each value is in [0,1] \n",
    "\n",
    "X, y = load_mnist('data', kind='train')\n",
    "# rescale the data\n",
    "X, y = X / 255., y # original pixel values are between 0 and 255\n",
    "print(X.shape, y.shape)"
   ]
  },
  {
   "cell_type": "markdown",
   "metadata": {},
   "source": [
    "Now split into training and test. Make sure that each label is present at least 10 times\n",
    "in training. If it is not, then keep adding permutations to the initial data until this \n",
    "happens."
   ]
  },
  {
   "cell_type": "code",
   "execution_count": 5,
   "metadata": {},
   "outputs": [
    {
     "name": "stdout",
     "output_type": "stream",
     "text": [
      "Labels in training dataset:  [0 1 2 3 4 5 6 7 8 9]\n",
      "Frequencies in training dataset:  [71 58 63 64 66 57 69 45 60 47]\n"
     ]
    }
   ],
   "source": [
    "# Random permute the data and split into training and test taking the first 600\n",
    "# data samples as training and 4000 samples as test\n",
    "permutation = np.random.permutation(X.shape[0])\n",
    "\n",
    "X = X[permutation]\n",
    "y = y[permutation]\n",
    "\n",
    "m_training = 600\n",
    "m_test = 4000\n",
    "\n",
    "X_train, X_test = X[:m_training], X[m_training:m_training+m_test:]\n",
    "y_train, y_test = y[:m_training], y[m_training:m_training+m_test:]\n",
    "\n",
    "labels, freqs = np.unique(y_train, return_counts=True)\n",
    "print(\"Labels in training dataset: \", labels)\n",
    "print(\"Frequencies in training dataset: \", freqs)\n"
   ]
  },
  {
   "cell_type": "code",
   "execution_count": 6,
   "metadata": {},
   "outputs": [],
   "source": [
    "#function for plotting a image and printing the corresponding label\n",
    "def plot_input(X_matrix, labels, index):\n",
    "    print(\"INPUT:\")\n",
    "    plt.imshow(\n",
    "        X_matrix[index].reshape(28,28),\n",
    "        cmap          = plt.cm.gray_r,\n",
    "        interpolation = \"nearest\"\n",
    "    )\n",
    "    plt.show()\n",
    "    print(\"LABEL: %i\"%labels[index])\n",
    "    return"
   ]
  },
  {
   "cell_type": "code",
   "execution_count": 7,
   "metadata": {},
   "outputs": [
    {
     "name": "stdout",
     "output_type": "stream",
     "text": [
      "INPUT:\n"
     ]
    },
    {
     "data": {
      "image/png": "[encoded data removed]",
      "text/plain": [
       "<Figure size 432x288 with 1 Axes>"
      ]
     },
     "metadata": {
      "needs_background": "light"
     },
     "output_type": "display_data"
    },
    {
     "name": "stdout",
     "output_type": "stream",
     "text": [
      "LABEL: 3\n",
      "INPUT:\n"
     ]
    },
    {
     "data": {
      "image/png": "[encoded data removed]",
      "text/plain": [
       "<Figure size 432x288 with 1 Axes>"
      ]
     },
     "metadata": {
      "needs_background": "light"
     },
     "output_type": "display_data"
    },
    {
     "name": "stdout",
     "output_type": "stream",
     "text": [
      "LABEL: 9\n",
      "INPUT:\n"
     ]
    },
    {
     "data": {
      "image/png": "[encoded data removed]",
      "text/plain": [
       "<Figure size 432x288 with 1 Axes>"
      ]
     },
     "metadata": {
      "needs_background": "light"
     },
     "output_type": "display_data"
    },
    {
     "name": "stdout",
     "output_type": "stream",
     "text": [
      "LABEL: 7\n",
      "INPUT:\n"
     ]
    },
    {
     "data": {
      "image/png": "[encoded data removed]",
      "text/plain": [
       "<Figure size 432x288 with 1 Axes>"
      ]
     },
     "metadata": {
      "needs_background": "light"
     },
     "output_type": "display_data"
    },
    {
     "name": "stdout",
     "output_type": "stream",
     "text": [
      "LABEL: 0\n"
     ]
    }
   ],
   "source": [
    "#let's try the plotting function\n",
    "plot_input(X_train,y_train,5)\n",
    "plot_input(X_test,y_test,50)\n",
    "plot_input(X_test,y_test,500)\n",
    "plot_input(X_test,y_test,700)"
   ]
  },
  {
   "cell_type": "markdown",
   "metadata": {},
   "source": [
    "## TO DO 1\n",
    "Use a SVM classifier with cross validation to pick a model. Use a 4-fold cross-validation. Let's start with a Linear kernel:"
   ]
  },
  {
   "cell_type": "code",
   "execution_count": 8,
   "metadata": {},
   "outputs": [
    {
     "name": "stdout",
     "output_type": "stream",
     "text": [
      "RESULTS FOR LINEAR KERNEL\n",
      "Best parameters set found: {'C': 1}\n",
      "Score with best parameters: 0.7766666666666667\n",
      "All scores on the grid:\n"
     ]
    },
    {
     "data": {
      "text/html": [
       "<table border=\"1\" class=\"dataframe\">\n",
       "  <thead>\n",
       "    <tr style=\"text-align: right;\">\n",
       "      <th></th>\n",
       "      <th>mean_fit_time</th>\n",
       "      <th>std_fit_time</th>\n",
       "      <th>mean_score_time</th>\n",
       "      <th>std_score_time</th>\n",
       "      <th>param_C</th>\n",
       "      <th>params</th>\n",
       "      <th>split0_test_score</th>\n",
       "      <th>split1_test_score</th>\n",
       "      <th>split2_test_score</th>\n",
       "      <th>split3_test_score</th>\n",
       "      <th>mean_test_score</th>\n",
       "      <th>std_test_score</th>\n",
       "      <th>rank_test_score</th>\n",
       "    </tr>\n",
       "  </thead>\n",
       "  <tbody>\n",
       "    <tr>\n",
       "      <th>0</th>\n",
       "      <td>0.100283</td>\n",
       "      <td>0.030506</td>\n",
       "      <td>0.041830</td>\n",
       "      <td>0.014587</td>\n",
       "      <td>0.01</td>\n",
       "      <td>{'C': 0.01}</td>\n",
       "      <td>0.840000</td>\n",
       "      <td>0.786667</td>\n",
       "      <td>0.700000</td>\n",
       "      <td>0.760000</td>\n",
       "      <td>0.771667</td>\n",
       "      <td>0.050415</td>\n",
       "      <td>4</td>\n",
       "    </tr>\n",
       "    <tr>\n",
       "      <th>1</th>\n",
       "      <td>0.131770</td>\n",
       "      <td>0.034156</td>\n",
       "      <td>0.070128</td>\n",
       "      <td>0.022803</td>\n",
       "      <td>0.1</td>\n",
       "      <td>{'C': 0.1}</td>\n",
       "      <td>0.846667</td>\n",
       "      <td>0.806667</td>\n",
       "      <td>0.693333</td>\n",
       "      <td>0.753333</td>\n",
       "      <td>0.775000</td>\n",
       "      <td>0.057615</td>\n",
       "      <td>3</td>\n",
       "    </tr>\n",
       "    <tr>\n",
       "      <th>2</th>\n",
       "      <td>0.114701</td>\n",
       "      <td>0.018044</td>\n",
       "      <td>0.045261</td>\n",
       "      <td>0.015472</td>\n",
       "      <td>1</td>\n",
       "      <td>{'C': 1}</td>\n",
       "      <td>0.846667</td>\n",
       "      <td>0.813333</td>\n",
       "      <td>0.693333</td>\n",
       "      <td>0.753333</td>\n",
       "      <td>0.776667</td>\n",
       "      <td>0.058595</td>\n",
       "      <td>1</td>\n",
       "    </tr>\n",
       "    <tr>\n",
       "      <th>3</th>\n",
       "      <td>0.090532</td>\n",
       "      <td>0.023617</td>\n",
       "      <td>0.032864</td>\n",
       "      <td>0.015167</td>\n",
       "      <td>10</td>\n",
       "      <td>{'C': 10}</td>\n",
       "      <td>0.846667</td>\n",
       "      <td>0.813333</td>\n",
       "      <td>0.693333</td>\n",
       "      <td>0.753333</td>\n",
       "      <td>0.776667</td>\n",
       "      <td>0.058595</td>\n",
       "      <td>1</td>\n",
       "    </tr>\n",
       "  </tbody>\n",
       "</table>"
      ],
      "text/plain": [
       "<IPython.core.display.HTML object>"
      ]
     },
     "metadata": {},
     "output_type": "display_data"
    },
    {
     "name": "stdout",
     "output_type": "stream",
     "text": [
      "None\n",
      "\n",
      "  param_C  mean_test_score\n",
      "0    0.01         0.771667\n",
      "1     0.1         0.775000\n",
      "2       1         0.776667\n",
      "3      10         0.776667\n"
     ]
    }
   ],
   "source": [
    "#import SVC\n",
    "from sklearn.svm import SVC\n",
    "import pandas as pd\n",
    "from IPython.display import display, HTML\n",
    "\n",
    "\n",
    "#import for Cross-Validation\n",
    "from sklearn.model_selection import GridSearchCV\n",
    "\n",
    "# parameters for linear SVM\n",
    "parameters = {'C': [0.01, 0.1, 1, 10]}\n",
    "\n",
    "#train linear SVM\n",
    "lin_classif = GridSearchCV(estimator =  SVC(kernel = 'linear'), cv = 4, param_grid= parameters )\n",
    "lin_classif.fit(X_train, y_train)\n",
    "\n",
    "\n",
    "print ('RESULTS FOR LINEAR KERNEL')\n",
    "\n",
    "print(\"Best parameters set found:\",lin_classif.best_params_)\n",
    "\n",
    "print(\"Score with best parameters:\",lin_classif.best_score_)\n",
    "\n",
    "print(\"All scores on the grid:\")\n",
    "\n",
    "res = pd.DataFrame(lin_classif.cv_results_)\n",
    "print (f'{display(HTML(res.to_html()))}\\n')\n",
    "\n",
    "print(f\"{res[['param_C', 'mean_test_score']]}\")"
   ]
  },
  {
   "cell_type": "markdown",
   "metadata": {},
   "source": [
    "## TO DO 2\n",
    "Pick a model for the Polynomial kernel with degree=2:"
   ]
  },
  {
   "cell_type": "code",
   "execution_count": 17,
   "metadata": {},
   "outputs": [
    {
     "name": "stdout",
     "output_type": "stream",
     "text": [
      "RESULTS FOR POLY DEGREE=2 KERNEL\n",
      "Best parameters set found: {'C': 0.01, 'gamma': 1}\n",
      "Score with best parameters: 0.775\n",
      "\n",
      "All scores on the grid:\n",
      "  param_C param_gamma  mean_test_score\n",
      "0    0.01        0.01          0.10750\n",
      "1    0.01         0.1          0.76125\n",
      "2    0.01           1          0.77500\n",
      "3     0.1        0.01          0.56750\n",
      "4     0.1         0.1          0.77125\n",
      "5     0.1           1          0.77500\n",
      "6       1        0.01          0.76125\n",
      "7       1         0.1          0.77500\n",
      "8       1           1          0.77500\n"
     ]
    }
   ],
   "source": [
    "# parameters for poly with degree 2 kernel\n",
    "parameters = {'C': [0.01, 0.1, 1],'gamma':[0.01,0.1,1]}\n",
    "\n",
    "#run SVM with poly of degree 2 kernel\n",
    "\n",
    "poly2_classif = GridSearchCV(estimator =  SVC(kernel = 'poly', degree = 2), cv = 4, param_grid= parameters )\n",
    "poly2_classif.fit(X_train, y_train)\n",
    "\n",
    "print ('RESULTS FOR POLY DEGREE=2 KERNEL')\n",
    "\n",
    "print(\"Best parameters set found:\",poly2_classif.best_params_)\n",
    "\n",
    "print(\"Score with best parameters:\",poly2_classif.best_score_)\n",
    "\n",
    "print(\"\\nAll scores on the grid:\")\n",
    "\n",
    "res = pd.DataFrame(poly2_classif.cv_results_)\n",
    "\n",
    "print(f\"{res[['param_C', 'param_gamma', 'mean_test_score']]}\")"
   ]
  },
  {
   "cell_type": "markdown",
   "metadata": {},
   "source": [
    "## TO DO 3\n",
    "\n",
    "Now let's try a higher degree for the polynomial kernel (e.g., 3rd degree)."
   ]
  },
  {
   "cell_type": "code",
   "execution_count": 18,
   "metadata": {},
   "outputs": [
    {
     "name": "stdout",
     "output_type": "stream",
     "text": [
      "RESULTS FOR POLY DEGREE= 3  KERNEL\n",
      "Best parameters set found: {'C': 0.01, 'gamma': 0.1}\n",
      "Score with best parameters: 0.7450000000000001\n",
      "\n",
      "All scores on the grid:\n",
      "  param_C param_gamma  mean_test_score\n",
      "0    0.01        0.01          0.10750\n",
      "1    0.01         0.1          0.74500\n",
      "2    0.01           1          0.71750\n",
      "3     0.1        0.01          0.44250\n",
      "4     0.1         0.1          0.71750\n",
      "5     0.1           1          0.71750\n",
      "6       1        0.01          0.71875\n",
      "7       1         0.1          0.71750\n",
      "8       1           1          0.71750\n"
     ]
    }
   ],
   "source": [
    "# parameters for poly with higher degree kernel\n",
    "parameters = {'C': [0.01, 0.1, 1],'gamma':[0.01,0.1,1]}\n",
    "\n",
    "#run SVM with poly of higher degree kernel\n",
    "degree = 3\n",
    "\n",
    "poly3_classif = GridSearchCV(estimator =  SVC(kernel = 'poly', degree = 3), cv = 4, param_grid= parameters )\n",
    "poly3_classif.fit(X_train, y_train)\n",
    "\n",
    "print ('RESULTS FOR POLY DEGREE=', degree, ' KERNEL')\n",
    "\n",
    "print(\"Best parameters set found:\",poly3_classif.best_params_)\n",
    "\n",
    "print(\"Score with best parameters:\",poly3_classif.best_score_)\n",
    "\n",
    "print(\"\\nAll scores on the grid:\")\n",
    "res = pd.DataFrame(poly3_classif.cv_results_)\n",
    "print(f\"{res[['param_C', 'param_gamma', 'mean_test_score']]}\")"
   ]
  },
  {
   "cell_type": "markdown",
   "metadata": {},
   "source": [
    "## TO DO 4\n",
    "Pick a model for the Radial Basis Function kernel:"
   ]
  },
  {
   "cell_type": "code",
   "execution_count": 19,
   "metadata": {},
   "outputs": [
    {
     "name": "stdout",
     "output_type": "stream",
     "text": [
      "RESULTS FOR rbf KERNEL\n",
      "Best parameters set found: {'C': 10, 'gamma': 0.01}\n",
      "Score with best parameters: 0.8037500000000001\n",
      "\n",
      "All scores on the grid:\n",
      "   param_C param_gamma  mean_test_score\n",
      "0      0.1       0.001          0.10750\n",
      "1      0.1        0.01          0.30125\n",
      "2      0.1         0.1          0.10750\n",
      "3      0.1           1          0.10750\n",
      "4        1       0.001          0.68000\n",
      "5        1        0.01          0.78625\n",
      "6        1         0.1          0.16500\n",
      "7        1           1          0.10750\n",
      "8       10       0.001          0.76250\n",
      "9       10        0.01          0.80375\n",
      "10      10         0.1          0.20625\n",
      "11      10           1          0.10750\n",
      "12     100       0.001          0.74250\n",
      "13     100        0.01          0.80375\n",
      "14     100         0.1          0.20625\n",
      "15     100           1          0.10750\n"
     ]
    }
   ],
   "source": [
    "# parameters for rbf SVM\n",
    "parameters = {'C': [0.1, 1, 10, 100],'gamma':[0.001, 0.01, 0.1,1]}\n",
    "\n",
    "#run SVM with rbf kernel\n",
    "\n",
    "rbf_classif = GridSearchCV(estimator =  SVC(kernel = 'rbf'), cv = 4, param_grid= parameters )\n",
    "rbf_classif.fit(X_train, y_train) \n",
    "\n",
    "print ('RESULTS FOR rbf KERNEL')\n",
    "\n",
    "print(\"Best parameters set found:\",rbf_classif.best_params_)\n",
    "\n",
    "print(\"Score with best parameters:\",rbf_classif.best_score_)\n",
    "\n",
    "print(\"\\nAll scores on the grid:\")\n",
    "res = pd.DataFrame(rbf_classif.cv_results_)\n",
    "print(f\"{res[['param_C', 'param_gamma', 'mean_test_score']]}\")\n"
   ]
  },
  {
   "cell_type": "markdown",
   "metadata": {},
   "source": [
    "## QUESTION 1\n",
    "What do you observe when using linear, polynomial and RBF kernels on this dataset ?"
   ]
  },
  {
   "cell_type": "markdown",
   "metadata": {},
   "source": [
    "We can observe that all polynomial kernels have regular performances while varying both parameters C and gamma.\n",
    "We observe that the best accuracy is given by RBF KERNEL with C=10 and GAMMA=0.01\n",
    "\n"
   ]
  },
  {
   "cell_type": "markdown",
   "metadata": {},
   "source": [
    "## TO DO 5\n",
    "Report here the best SVM kernel and parameters"
   ]
  },
  {
   "cell_type": "code",
   "execution_count": 12,
   "metadata": {},
   "outputs": [
    {
     "name": "stdout",
     "output_type": "stream",
     "text": [
      "Best SVM training error: 0.000000\n",
      "Best SVM test error: 0.186500\n"
     ]
    }
   ],
   "source": [
    "#get training and test error for the best SVM model from CV\n",
    "\n",
    "best_SVM = rbf_classif\n",
    "best_SVM.fit(X_train, y_train)\n",
    "\n",
    "# (error is 1 - svm.score)\n",
    "training_error = 1. - best_SVM.score(X_train,y_train)\n",
    "test_error = 1. - best_SVM.score(X_test,y_test)\n",
    "\n",
    "\n",
    "print (\"Best SVM training error: %f\" % training_error)\n",
    "print (\"Best SVM test error: %f\" % test_error)"
   ]
  },
  {
   "cell_type": "markdown",
   "metadata": {},
   "source": [
    "## TO DO 6\n",
    "\n",
    "Analyze how the gamma parameter (inversely proportional to standard deviation of Gaussian Kernel) impact the performances of the classifier"
   ]
  },
  {
   "cell_type": "code",
   "execution_count": 13,
   "metadata": {},
   "outputs": [
    {
     "name": "stdout",
     "output_type": "stream",
     "text": [
      "[1.e-05 1.e-04 1.e-03 1.e-02 1.e-01 1.e+00 1.e+01 1.e+02]\n"
     ]
    }
   ],
   "source": [
    "#Test with different values of gamma\n",
    "\n",
    "# Set gamma values\n",
    "gamma_values = np.logspace(-5,2,8)\n",
    "print(gamma_values)\n"
   ]
  },
  {
   "cell_type": "code",
   "execution_count": 14,
   "metadata": {},
   "outputs": [
    {
     "data": {
      "image/png": "[encoded data removed]",
      "text/plain": [
       "<Figure size 1080x360 with 2 Axes>"
      ]
     },
     "metadata": {
      "needs_background": "light"
     },
     "output_type": "display_data"
    }
   ],
   "source": [
    "# Try the SVM with the previously set values of gamma\n",
    "# use rbf kernel and C=1\n",
    "\n",
    "train_acc_list, test_acc_list = [], []\n",
    "\n",
    "\n",
    "for gamma in gamma_values:\n",
    "    my_svm = SVC(kernel=\"rbf\", C = 1, gamma = gamma)\n",
    "    \n",
    "    my_svm.fit(X_train, y_train)\n",
    "\n",
    "    train_acc_list.append(1-my_svm.score(X_train, y_train))\n",
    "    test_acc_list.append(1-my_svm.score(X_test, y_test))\n",
    "\n",
    "# Plot\n",
    "fig, ax = plt.subplots(1,2, figsize=(15,5))\n",
    "\n",
    "ax[0].plot(gamma_values, train_acc_list)\n",
    "ax[0].set_xscale('log')\n",
    "ax[0].set_xlabel('gamma')\n",
    "ax[0].set_ylabel('Train accuracy')\n",
    "ax[0].grid(True)\n",
    "\n",
    "ax[1].plot(gamma_values, test_acc_list)\n",
    "ax[1].set_xscale('log')\n",
    "ax[1].set_xlabel('gamma')\n",
    "ax[1].set_ylabel('Test accuracy')\n",
    "ax[1].grid(True)\n",
    "\n",
    "\n",
    "plt.show()"
   ]
  },
  {
   "cell_type": "markdown",
   "metadata": {},
   "source": [
    "## QUESTION 2\n",
    "How do the train and test error change when changing gamma ? Which is the best value of gamma ? \n",
    "Connect your answers to the discussion about the overfitting issue."
   ]
  },
  {
   "cell_type": "markdown",
   "metadata": {},
   "source": [
    "The training accuracy, or training errors, decreases while increasing gamma, managing to fit always better the data.\n",
    "This does not append with the test accuracy, in fact at a certain point the test error begins to increase. This indicates that after a certain value of gamma we are overfitting the data.\n",
    "The best value of gamma is 10^(-2).\n",
    "\n",
    "This is consistent with the fact  that gamma parameter is inversely proportional to standard deviation of Gaussian Kernel.\n"
   ]
  },
  {
   "cell_type": "markdown",
   "metadata": {},
   "source": [
    "## More data\n",
    "Now let's do the same but using more data points for training.\n",
    "\n",
    "\n",
    "Choose a new number of data points."
   ]
  },
  {
   "cell_type": "code",
   "execution_count": 20,
   "metadata": {},
   "outputs": [
    {
     "name": "stdout",
     "output_type": "stream",
     "text": [
      "Labels in training dataset:  [0 1 2 3 4 5 6 7 8 9]\n",
      "Frequencies in training dataset:  [122  81 108  88 102 102 108  93  99  97]\n"
     ]
    }
   ],
   "source": [
    "X = X[permutation]\n",
    "y = y[permutation]\n",
    "\n",
    "m_training = 1000 # TODO number of data points, adjust depending on the capabilities of your PC\n",
    "\n",
    "X_train, X_test = X[:m_training], X[m_training:]\n",
    "y_train, y_test = y[:m_training], y[m_training:]\n",
    "\n",
    "labels, freqs = np.unique(y_train, return_counts=True)\n",
    "print(\"Labels in training dataset: \", labels)\n",
    "print(\"Frequencies in training dataset: \", freqs)"
   ]
  },
  {
   "cell_type": "markdown",
   "metadata": {},
   "source": [
    "## TO DO 7\n",
    "\n",
    "Let's try to use SVM with parameters obtained from the best model for $m_{training} =  2000$. Since it may take a long time to run, you can decide to just let it run for some time and stop it if it does not complete. If you decide to do this, report it in the cell below."
   ]
  },
  {
   "cell_type": "code",
   "execution_count": 21,
   "metadata": {
    "scrolled": true
   },
   "outputs": [
    {
     "name": "stdout",
     "output_type": "stream",
     "text": [
      "Best SVM training error: 0.000000\n",
      "Best SVM test error: 0.147610\n"
     ]
    }
   ],
   "source": [
    "#get training and test error for the best SVM model from CV\n",
    "\n",
    "best_SVM.fit(X_train, y_train)\n",
    "\n",
    "training_error = 1. - best_SVM.score(X_train,y_train)\n",
    "test_error = 1. - best_SVM.score(X_test,y_test)\n",
    "\n",
    "print (\"Best SVM training error: %f\" % training_error)\n",
    "print (\"Best SVM test error: %f\" % test_error)"
   ]
  },
  {
   "cell_type": "markdown",
   "metadata": {},
   "source": [
    "Just for comparison, let's also use logistic regression \n",
    "\n",
    "## TO DO 8 Try first without regularization (use a very large large C)¶"
   ]
  },
  {
   "cell_type": "code",
   "execution_count": 22,
   "metadata": {},
   "outputs": [
    {
     "name": "stdout",
     "output_type": "stream",
     "text": [
      "Best logistic regression training error: 0.000000\n",
      "Best logistic regression test error: 0.279203\n"
     ]
    }
   ],
   "source": [
    "from sklearn import linear_model\n",
    "\n",
    "log_reg_NoReg = linear_model.LogisticRegression(solver = 'newton-cg', C=1e5 , multi_class='auto', max_iter=1e3)\n",
    "log_reg_NoReg.fit(X_train, y_train)\n",
    "\n",
    "training_error = 1. - log_reg_NoReg.score(X_train,y_train)\n",
    "test_error = 1. - log_reg_NoReg.score(X_test,y_test)\n",
    "\n",
    "print (\"Best logistic regression training error: %f\" % training_error)\n",
    "print (\"Best logistic regression test error: %f\" % test_error)"
   ]
  },
  {
   "cell_type": "markdown",
   "metadata": {},
   "source": [
    "## TO DO 9 Try  with regularization (use C=1)¶"
   ]
  },
  {
   "cell_type": "code",
   "execution_count": 23,
   "metadata": {},
   "outputs": [
    {
     "name": "stdout",
     "output_type": "stream",
     "text": [
      "Best regularized logistic regression training error: 0.000000\n",
      "Best regularized logistic regression test error: 0.257898\n"
     ]
    }
   ],
   "source": [
    "log_reg = linear_model.LogisticRegression(solver = 'newton-cg', C=1 , multi_class='auto', max_iter=1e3)\n",
    "log_reg.fit(X_train, y_train)\n",
    "\n",
    "training_error = 1. - log_reg.score(X_train,y_train)\n",
    "test_error = 1. - log_reg.score(X_test,y_test)\n",
    "print (\"Best regularized logistic regression training error: %f\" % training_error)\n",
    "print (\"Best regularized logistic regression test error: %f\" % test_error)"
   ]
  },
  {
   "cell_type": "markdown",
   "metadata": {},
   "source": [
    "## QUESTION 3\n",
    "Compare and discuss:\n",
    "- the results from SVM with m=600 and with m=2000 training data points. If you stopped the SVM, include such aspect in your comparison.\n",
    "- the results of SVM and of Logistic Regression"
   ]
  },
  {
   "cell_type": "markdown",
   "metadata": {},
   "source": [
    "In my case i chose m=1000 insted of m=2000 considering the performance of my pc.\n",
    "We can observe thet in the SVM results in both cases the training error goes to zero. However a bigger training set lead to a smaller test error.\n",
    "\n",
    "Regarding the results of SVM and of Logistic Regression we can observe that the training errors are both zero while the test error is better for the SVM. However if we take take also in consideration the performance of our estimator, the Logistic Regression model makes a few more mistakes in the test set but is more fast and more efficient.\n"
   ]
  },
  {
   "cell_type": "markdown",
   "metadata": {},
   "source": [
    "## TO DO 10\n",
    "Plot an item of clothing that is missclassified by logistic regression and correctly classified by SVM."
   ]
  },
  {
   "cell_type": "code",
   "execution_count": 24,
   "metadata": {},
   "outputs": [
    {
     "name": "stdout",
     "output_type": "stream",
     "text": [
      "INPUT:\n"
     ]
    },
    {
     "data": {
      "image/png": "[encoded data removed]",
      "text/plain": [
       "<Figure size 432x288 with 1 Axes>"
      ]
     },
     "metadata": {
      "needs_background": "light"
     },
     "output_type": "display_data"
    },
    {
     "name": "stdout",
     "output_type": "stream",
     "text": [
      "LABEL: 2\n",
      "44758  index was correctly classified by SVM and misclassified by logistic regression algorithm.\n"
     ]
    }
   ],
   "source": [
    "LR_prediction = log_reg.predict(X_test)\n",
    "SVM_prediction = best_SVM.predict(X_test)\n",
    "\n",
    "miscl_samples = [i for i in range(len(LR_prediction)) if (LR_prediction[i] != SVM_prediction[i]) and (SVM_prediction[i] == y_test[i]) ]\n",
    "\n",
    "rand = np.random.choice(miscl_samples)\n",
    "plot_input(X_test,y_test,rand)\n",
    "\n",
    "print(rand, \" index was correctly classified by SVM and misclassified by logistic regression algorithm.\")\n"
   ]
  },
  {
   "cell_type": "markdown",
   "metadata": {},
   "source": [
    "## TO DO 11\n",
    "Plot the confusion matrix for the SVM classifier and for logistic regression.\n",
    "The confusion matrix has one column for each predicted label and one row for each true label. \n",
    "It shows for each class in the corresponding row how many samples belonging to that class gets each possible output label.\n",
    "Notice that the diagonal contains the correctly classified samples, while the other cells correspond to errors.\n",
    "You can obtain it with the sklearn.metrics.confusion_matrix function (see the documentation).\n",
    "Try also to normalize the confusion matrix by the number of samples in each class in order to measure the accuracy on each single class.\n"
   ]
  },
  {
   "cell_type": "code",
   "execution_count": 25,
   "metadata": {},
   "outputs": [
    {
     "name": "stdout",
     "output_type": "stream",
     "text": [
      "Labels and frequencies in test set:  [5878 5919 5892 5912 5898 5898 5892 5907 5901 5903]\n",
      "\n",
      " Confusion matrix SVM  \n",
      " \n",
      " [[5346   56    0   28  235   72   41   51   37   14]\n",
      " [   5 4608   81   60  111  131  120   43  201   84]\n",
      " [   9  270 4732  141  145  269  286   79  153  318]\n",
      " [  24   70  102 5275   52  190   39   43  102   27]\n",
      " [  91  189   81   74 5012   72  203  222   14  143]\n",
      " [ 101   10   11   90    5 4857   12   26  109   13]\n",
      " [   6  233  606   27  109   96 5047   62  232   34]\n",
      " [  97    3   16   60   28   25   67 5242   10   22]\n",
      " [ 123  153  185  136   77  169   64   74 5016   92]\n",
      " [  76  327   78   21  124   17   13   65   27 5156]]\n",
      "\n",
      " Confusion matrix SVM (normalized)   \n",
      " \n",
      " [[0.91 0.01 0.   0.   0.04 0.01 0.01 0.01 0.01 0.  ]\n",
      " [0.   0.78 0.01 0.01 0.02 0.02 0.02 0.01 0.03 0.01]\n",
      " [0.   0.05 0.8  0.02 0.02 0.05 0.05 0.01 0.03 0.05]\n",
      " [0.   0.01 0.02 0.89 0.01 0.03 0.01 0.01 0.02 0.  ]\n",
      " [0.02 0.03 0.01 0.01 0.85 0.01 0.03 0.04 0.   0.02]\n",
      " [0.02 0.   0.   0.02 0.   0.82 0.   0.   0.02 0.  ]\n",
      " [0.   0.04 0.1  0.   0.02 0.02 0.86 0.01 0.04 0.01]\n",
      " [0.02 0.   0.   0.01 0.   0.   0.01 0.89 0.   0.  ]\n",
      " [0.02 0.03 0.03 0.02 0.01 0.03 0.01 0.01 0.85 0.02]\n",
      " [0.01 0.06 0.01 0.   0.02 0.   0.   0.01 0.   0.87]]\n",
      "\n",
      " Confusion matrix LR  \n",
      " \n",
      " [[4918   47    0   62  227   75   46   79   47   43]\n",
      " [  10 3984  184  119  169  154  208   77  424  157]\n",
      " [  15  567 3709  106  285  401  371  143  426  517]\n",
      " [  25   99  156 4665  129  277   83   99  128   55]\n",
      " [ 128  247  222  241 4265  108  270  215   55  330]\n",
      " [ 214   40   60  193   32 4384   54  100  153   33]\n",
      " [  11  294  896   76  175  176 4504  159  344   95]\n",
      " [ 145   36   60  111   81   91  120 4777   17   89]\n",
      " [ 152  268  320  291  116  189  185   94 4196  202]\n",
      " [ 260  337  285   48  419   43   51  164  111 4382]]\n",
      "\n",
      " Confusion matrix LR (normalized)   \n",
      " \n",
      " [[0.84 0.01 0.   0.01 0.04 0.01 0.01 0.01 0.01 0.01]\n",
      " [0.   0.67 0.03 0.02 0.03 0.03 0.04 0.01 0.07 0.03]\n",
      " [0.   0.1  0.63 0.02 0.05 0.07 0.06 0.02 0.07 0.09]\n",
      " [0.   0.02 0.03 0.79 0.02 0.05 0.01 0.02 0.02 0.01]\n",
      " [0.02 0.04 0.04 0.04 0.72 0.02 0.05 0.04 0.01 0.06]\n",
      " [0.04 0.01 0.01 0.03 0.01 0.74 0.01 0.02 0.03 0.01]\n",
      " [0.   0.05 0.15 0.01 0.03 0.03 0.76 0.03 0.06 0.02]\n",
      " [0.02 0.01 0.01 0.02 0.01 0.02 0.02 0.81 0.   0.02]\n",
      " [0.03 0.05 0.05 0.05 0.02 0.03 0.03 0.02 0.71 0.03]\n",
      " [0.04 0.06 0.05 0.01 0.07 0.01 0.01 0.03 0.02 0.74]]\n"
     ]
    }
   ],
   "source": [
    "np.set_printoptions(precision=2, suppress=True) # for better aligned printing of confusion matrix use floatmode='fixed'\n",
    "\n",
    "u, counts = np.unique(y_test, return_counts=True)\n",
    "print(\"Labels and frequencies in test set: \", counts)\n",
    "\n",
    "confusion_SVM = skm.confusion_matrix( SVM_prediction,y_test)\n",
    "print(\"\\n Confusion matrix SVM  \\n \\n\", confusion_SVM)\n",
    "print(\"\\n Confusion matrix SVM (normalized)   \\n \\n\", confusion_SVM /counts[:,None] )\n",
    "\n",
    "confusion_LR =  skm.confusion_matrix( LR_prediction,y_test)\n",
    "print(\"\\n Confusion matrix LR  \\n \\n\", confusion_LR)\n",
    "print(\"\\n Confusion matrix LR (normalized)   \\n \\n\", confusion_LR /counts[:,None] )"
   ]
  },
  {
   "cell_type": "code",
   "execution_count": 26,
   "metadata": {},
   "outputs": [
    {
     "name": "stdout",
     "output_type": "stream",
     "text": [
      "\n",
      " Confusion matrix SVM (normalized)   \n",
      " \n",
      " [[0.91 0.01 0.   0.   0.04 0.01 0.01 0.01 0.01 0.  ]\n",
      " [0.   0.78 0.01 0.01 0.02 0.02 0.02 0.01 0.03 0.01]\n",
      " [0.   0.05 0.8  0.02 0.02 0.05 0.05 0.01 0.03 0.05]\n",
      " [0.   0.01 0.02 0.89 0.01 0.03 0.01 0.01 0.02 0.  ]\n",
      " [0.02 0.03 0.01 0.01 0.85 0.01 0.03 0.04 0.   0.02]\n",
      " [0.02 0.   0.   0.02 0.   0.82 0.   0.   0.02 0.  ]\n",
      " [0.   0.04 0.1  0.   0.02 0.02 0.86 0.01 0.04 0.01]\n",
      " [0.02 0.   0.   0.01 0.   0.   0.01 0.89 0.   0.  ]\n",
      " [0.02 0.03 0.03 0.02 0.01 0.03 0.01 0.01 0.85 0.02]\n",
      " [0.01 0.06 0.01 0.   0.02 0.   0.   0.01 0.   0.87]]\n",
      "\n",
      " Confusion matrix LR (normalized)   \n",
      " \n",
      " [[0.84 0.01 0.   0.01 0.04 0.01 0.01 0.01 0.01 0.01]\n",
      " [0.   0.67 0.03 0.02 0.03 0.03 0.04 0.01 0.07 0.03]\n",
      " [0.   0.1  0.63 0.02 0.05 0.07 0.06 0.02 0.07 0.09]\n",
      " [0.   0.02 0.03 0.79 0.02 0.05 0.01 0.02 0.02 0.01]\n",
      " [0.02 0.04 0.04 0.04 0.72 0.02 0.05 0.04 0.01 0.06]\n",
      " [0.04 0.01 0.01 0.03 0.01 0.74 0.01 0.02 0.03 0.01]\n",
      " [0.   0.05 0.15 0.01 0.03 0.03 0.76 0.03 0.06 0.02]\n",
      " [0.02 0.01 0.01 0.02 0.01 0.02 0.02 0.81 0.   0.02]\n",
      " [0.03 0.05 0.05 0.05 0.02 0.03 0.03 0.02 0.71 0.03]\n",
      " [0.04 0.06 0.05 0.01 0.07 0.01 0.01 0.03 0.02 0.74]]\n"
     ]
    }
   ],
   "source": [
    "# ADD CODE TO NORMALIZE CONFUSION MATRIX AND PRINT THE NORMALIZED MATRIX\n",
    "\n",
    "print(\"\\n Confusion matrix SVM (normalized)   \\n \\n\", confusion_SVM /counts[:,None] )\n",
    "\n",
    "print(\"\\n Confusion matrix LR (normalized)   \\n \\n\", confusion_LR /counts[:,None] )\n"
   ]
  },
  {
   "cell_type": "markdown",
   "metadata": {},
   "source": [
    "## QUESTION 4\n",
    "Have a look at the confusion matrices and comment on the obtained accuracies. Why some classes have lower accuracies and others an higher one ? Make some guesses on the possible causes.\n"
   ]
  },
  {
   "cell_type": "markdown",
   "metadata": {},
   "source": [
    "From the normaluzed confusion tables we can see that the accuracy of correctly classifying samples is quite high for both SVM and linear regression model. \n",
    "However considering the quality of the images it is reasonable to have samples that are more difficult to classify correctly than others.\n",
    "\n",
    "We see, for example, that in Confusion matrix LR the 3th entry ('tsu') are the most misclassified, so it means that  my algorithms have a 37% of possibility to misclassify an image in input whose label is 3.\n"
   ]
  }
 ],
 "metadata": {
  "kernelspec": {
   "display_name": "Python 3",
   "language": "python",
   "name": "python3"
  },
  "language_info": {
   "codemirror_mode": {
    "name": "ipython",
    "version": 3
   },
   "file_extension": ".py",
   "mimetype": "text/x-python",
   "name": "python",
   "nbconvert_exporter": "python",
   "pygments_lexer": "ipython3",
   "version": "3.8.8"
  }
 },
 "nbformat": 4,
 "nbformat_minor": 4
}
